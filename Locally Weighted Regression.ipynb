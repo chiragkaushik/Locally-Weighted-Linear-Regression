{
 "cells": [
  {
   "cell_type": "markdown",
   "metadata": {},
   "source": [
    "# Locally Weighted Regression\n",
    "## 1) Read and Normalize the dataset\n",
    "## 2) Generate W for every Query Point\n",
    "## 3) No training is involved, directly make predictions using closed form solution we derived\n",
    "## 4) Find the best possible tau(Bandwidth parameter)[Cross Validation]"
   ]
  },
  {
   "cell_type": "markdown",
   "metadata": {},
   "source": [
    "# Loading Data"
   ]
  },
  {
   "cell_type": "code",
   "execution_count": 84,
   "metadata": {},
   "outputs": [],
   "source": [
    "import numpy as np\n",
    "import matplotlib.pyplot as plt\n",
    "import pandas as pd"
   ]
  },
  {
   "cell_type": "code",
   "execution_count": 85,
   "metadata": {},
   "outputs": [],
   "source": [
    "# 3x^3 -5x^2 + 7x + 2\n",
    "\n",
    "def getData(m):\n",
    "    X=np.random.rand(m,1)\n",
    "    noise = np.random.randn(m,1)\n",
    "    Y = 3*X**5 - X**4 - 12*X**2 + 7*X + 2 + .1*noise\n",
    "    print(noise.shape)\n",
    "    Y=Y.reshape((m,))\n",
    "    return X,Y\n",
    "\n",
    "\n",
    "    \n",
    "    \n",
    "    "
   ]
  },
  {
   "cell_type": "code",
   "execution_count": 86,
   "metadata": {},
   "outputs": [
    {
     "name": "stdout",
     "output_type": "stream",
     "text": [
      "(100, 1)\n"
     ]
    }
   ],
   "source": [
    "X,Y = getData(100)"
   ]
  },
  {
   "cell_type": "code",
   "execution_count": 87,
   "metadata": {},
   "outputs": [
    {
     "name": "stdout",
     "output_type": "stream",
     "text": [
      "(100, 1)\n",
      "(100,)\n"
     ]
    }
   ],
   "source": [
    "print(X.shape)\n",
    "print(Y.shape)"
   ]
  },
  {
   "cell_type": "code",
   "execution_count": 88,
   "metadata": {},
   "outputs": [
    {
     "data": {
      "image/png": "[encoded data removed]",
      "text/plain": [
       "<Figure size 576x396 with 1 Axes>"
      ]
     },
     "metadata": {},
     "output_type": "display_data"
    }
   ],
   "source": [
    "plt.title('Normalized Data')\n",
    "plt.style.use('seaborn')\n",
    "plt.scatter(X,Y)\n",
    "plt.show()"
   ]
  },
  {
   "cell_type": "code",
   "execution_count": 89,
   "metadata": {},
   "outputs": [],
   "source": [
    "def getW(query_point,X,tau):\n",
    "    \n",
    "    W = np.eye(X.shape[0])\n",
    "    W = np.mat(W)\n",
    "#     print(W.shape)\n",
    "    \n",
    "    for i in range(X.shape[0]):\n",
    "        xi = X[i]\n",
    "        x = query_point\n",
    "        W[i,i] = np.exp(np.dot((xi - x),(xi-x).T)/(-2*tau*tau))\n",
    "    \n",
    "    return W\n",
    "\n",
    "def predict(X,Y,query_point,tau):\n",
    "    \n",
    "    ones = np.ones((X.shape[0],1))\n",
    "    \n",
    "    X_ = np.hstack((X,ones))\n",
    "    \n",
    "    qx= np.mat([query_point,1])\n",
    "    \n",
    "    W = getW(qx,X_,tau)\n",
    "    \n",
    "#     print(W.shape)\n",
    "#     print(X_.shape)\n",
    "#     print(Y.shape)\n",
    "#     print(X_[:5,:])\n",
    "\n",
    "    theta = np.linalg.pinv(X_.T*(W*X_))*(X_.T*(W*Y))\n",
    "    pred = np.dot(qx,theta)\n",
    "    \n",
    "    return theta,pred\n",
    "\n",
    "    \n",
    "    "
   ]
  },
  {
   "cell_type": "code",
   "execution_count": 116,
   "metadata": {},
   "outputs": [],
   "source": [
    "X = np.mat(X)\n",
    "Y = np.mat(Y)\n",
    "Y=Y.reshape((-1,1))\n",
    "W = getW(0.6,X,0.1)"
   ]
  },
  {
   "cell_type": "code",
   "execution_count": 117,
   "metadata": {},
   "outputs": [
    {
     "name": "stdout",
     "output_type": "stream",
     "text": [
      "[[5.11618506e-02 0.00000000e+00 0.00000000e+00 ... 0.00000000e+00\n",
      "  0.00000000e+00 0.00000000e+00]\n",
      " [0.00000000e+00 5.01963511e-01 0.00000000e+00 ... 0.00000000e+00\n",
      "  0.00000000e+00 0.00000000e+00]\n",
      " [0.00000000e+00 0.00000000e+00 8.37717588e-08 ... 0.00000000e+00\n",
      "  0.00000000e+00 0.00000000e+00]\n",
      " ...\n",
      " [0.00000000e+00 0.00000000e+00 0.00000000e+00 ... 8.93628886e-08\n",
      "  0.00000000e+00 0.00000000e+00]\n",
      " [0.00000000e+00 0.00000000e+00 0.00000000e+00 ... 0.00000000e+00\n",
      "  2.32766143e-01 0.00000000e+00]\n",
      " [0.00000000e+00 0.00000000e+00 0.00000000e+00 ... 0.00000000e+00\n",
      "  0.00000000e+00 9.65475837e-01]]\n"
     ]
    }
   ],
   "source": [
    "print(W)"
   ]
  },
  {
   "cell_type": "code",
   "execution_count": 114,
   "metadata": {},
   "outputs": [],
   "source": [
    "theta,pred = predict(X,Y,0.6,0.1)"
   ]
  },
  {
   "cell_type": "code",
   "execution_count": 115,
   "metadata": {},
   "outputs": [
    {
     "name": "stdout",
     "output_type": "stream",
     "text": [
      "[[-6.16440399]\n",
      " [ 5.58502816]]\n",
      "[[1.88638577]]\n"
     ]
    }
   ],
   "source": [
    "print(theta)\n",
    "print(pred)"
   ]
  },
  {
   "cell_type": "code",
   "execution_count": 124,
   "metadata": {},
   "outputs": [
    {
     "name": "stdout",
     "output_type": "stream",
     "text": [
      "(10,)\n",
      "[ 2.0654948   2.56050733  2.83985452  2.90553408  2.65227517  2.16319685\n",
      "  1.45057109  0.63448986 -0.20506498 -1.00650372]\n",
      "[0.         0.11111111 0.22222222 0.33333333 0.44444444 0.55555556\n",
      " 0.66666667 0.77777778 0.88888889 1.        ]\n"
     ]
    }
   ],
   "source": [
    "X_test = np.linspace(0,1,10)\n",
    "\n",
    "Y_test = []\n",
    "\n",
    "for x in X_test:\n",
    "    \n",
    "    theta,pred = predict(X,Y,x,0.090)\n",
    "    \n",
    "    Y_test.append(pred)\n",
    "    \n",
    "Y_test = np.array(Y_test)\n",
    "Y_test = np.concatenate(Y_test,axis=0)\n",
    "Y_test = np.concatenate(Y_test,axis=0)\n",
    "Y_test = np.array(Y_test)\n",
    "\n",
    "print(Y_test.shape)\n",
    "print(Y_test)\n",
    "print(X_test)\n"
   ]
  },
  {
   "cell_type": "code",
   "execution_count": 125,
   "metadata": {},
   "outputs": [],
   "source": [
    "X=np.array(X)\n",
    "Y=np.array(Y)"
   ]
  },
  {
   "cell_type": "code",
   "execution_count": 126,
   "metadata": {},
   "outputs": [
    {
     "data": {
      "image/png": "[encoded data removed]",
      "text/plain": [
       "<Figure size 576x396 with 1 Axes>"
      ]
     },
     "metadata": {},
     "output_type": "display_data"
    }
   ],
   "source": [
    "plt.scatter(X,Y)\n",
    "plt.scatter(X_test,Y_test,color='red')\n",
    "plt.show()"
   ]
  },
  {
   "cell_type": "code",
   "execution_count": null,
   "metadata": {},
   "outputs": [],
   "source": []
  }
 ],
 "metadata": {
  "kernelspec": {
   "display_name": "Python 3",
   "language": "python",
   "name": "python3"
  },
  "language_info": {
   "codemirror_mode": {
    "name": "ipython",
    "version": 3
   },
   "file_extension": ".py",
   "mimetype": "text/x-python",
   "name": "python",
   "nbconvert_exporter": "python",
   "pygments_lexer": "ipython3",
   "version": "3.5.2"
  }
 },
 "nbformat": 4,
 "nbformat_minor": 2
}
